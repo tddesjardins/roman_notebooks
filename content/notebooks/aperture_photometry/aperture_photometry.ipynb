{
 "cells": [
  {
   "cell_type": "markdown",
   "metadata": {
    "slideshow": {
     "slide_type": "slide"
    }
   },
   "source": [
    "# Aperture Photometry"
   ]
  },
  {
   "cell_type": "markdown",
   "metadata": {
    "slideshow": {
     "slide_type": "skip"
    }
   },
   "source": [
    "***"
   ]
  },
  {
   "cell_type": "markdown",
   "metadata": {
    "slideshow": {
     "slide_type": "slide"
    }
   },
   "source": [
    "## Kernel Information and Read-Only Status\n",
    "\n",
    "To run this notebook, please select the \"Roman Calibration\" kernel at the top right of your window.\n",
    "\n",
    "This notebook is read-only. You can run cells and make edits, but you must save changes to a different location. We recommend saving the notebook within your home directory, or to a new folder within your home (e.g. <span style=\"font-variant:small-caps;\">file > save notebook as > my-nbs/nb.ipynb</span>). Note that a directory must exist before you attempt to add a notebook to it."
   ]
  },
  {
   "cell_type": "markdown",
   "metadata": {},
   "source": [
    "## Imports\n",
    "We are using standard libraries from the Numpy and Astropy stack.\n",
    "\n",
    "- *astropy*\n",
    "- *numpy*\n",
    "- *copy*\n",
    "- *matplotlib*\n",
    "- *photutils* is an Astropy-affiliated package for photometry\n",
    "- *roman_datamodels* opens and validates WFI data files\n",
    "- *asdf* opens WFI data files\n",
    "- *os* for checking if files exist\n",
    "- *s3fs* streams data from Simple Storage Service (S3) buckets on Amazon Web Services (AWS)"
   ]
  },
  {
   "cell_type": "code",
   "execution_count": null,
   "metadata": {
    "slideshow": {
     "slide_type": "fragment"
    }
   },
   "outputs": [],
   "source": [
    "from astropy.table import Table\n",
    "import asdf\n",
    "import copy\n",
    "import matplotlib.pyplot as plt\n",
    "import numpy as np\n",
    "from photutils.aperture import CircularAperture, aperture_photometry\n",
    "import roman_datamodels as rdm\n",
    "import os\n",
    "#import s3fs"
   ]
  },
  {
   "cell_type": "markdown",
   "metadata": {
    "slideshow": {
     "slide_type": "slide"
    }
   },
   "source": [
    "## Introduction\n",
    "This notebook explains how to perform **forced aperture photometry** (also known as *forced photometry* or *aperture photometry*) on Roman WFI images. Aperture photometry is useful for measuring the integrated fluxes for a set of specified source positions and aperture sizes. This technique is often valuable for extracting fluxes of known sources when it is impractical to fit for their positions and light distributions, or when simplicity and speed are high priorities. For example, aperture photometry can be used for:\n",
    "\n",
    "- **Faint sources.** If a source is too faint, then it can be difficult to fit for the source centroid, light profile, and flux.\n",
    "- **Sources detected at other wavelengths.** If a source is detected in a given bandpass, and the source size is expected to be the same across wavelengths, then it can be useful to define one aperture and measure the source fluxes across multiple filters.\n",
    "- **Time-series evolution of sources.** If a source brightness is decreasing over time, then we can use earlier observations obtained when the source was bright to specify an aperture and extract the flux in a time series.\n",
    "\n",
    "Here, we cover a simple example using the `photutils` package to extract fluxes from a catalog of known sources (stars and galaxies)."
   ]
  },
  {
   "cell_type": "markdown",
   "metadata": {},
   "source": [
    "***"
   ]
  },
  {
   "cell_type": "markdown",
   "metadata": {
    "slideshow": {
     "slide_type": "slide"
    }
   },
   "source": [
    "## Tutorial Data"
   ]
  },
  {
   "attachments": {},
   "cell_type": "markdown",
   "metadata": {
    "slideshow": {
     "slide_type": "slide"
    }
   },
   "source": [
    "### Image Data\n",
    "\n",
    "In this tutorial, we use a Level 2 (L2; calibrated rate image) WFI data file that is the result of RomanCal processing of a Level 1 (L1; uncalibrated ramp cube) simulated file created with Roman I-Sim. If you have already worked through the tutorials \"Simulating WFI Imaging Data with Roman I-Sim\" and \"Calibrating WFI Exposures with RomanCal,\" then you may already have these files saved locally. If not, then these files are also stored in the RRN S3 bucket. For more information on how to access these data, see the Data Discovery and Access tutorial.\n",
    "\n",
    "As a reminder, the file we are using is a L2 file meaning that the data were processed to flag and/or correct for detector-level effects (e.g., saturation, classic non-linearity, etc.), and that the ramp was fitted into a count rate image in units of Data Numbers (DN) per second."
   ]
  },
  {
   "cell_type": "code",
   "execution_count": null,
   "metadata": {},
   "outputs": [],
   "source": [
    "#Stream the files from the S3 bucket if they are not in local storage\n",
    "\n",
    "if os.path.exists('r0003201001001001004_0001_wfi01_f106_cal.asdf'):\n",
    "    f = rdm.open('r0003201001001001004_0001_wfi01_f106_cal.asdf')\n",
    "    image = f.data.copy()\n",
    "    wcs = copy.deepcopy(f.meta.wcs)\n",
    "else:\n",
    "    fs = s3fs.S3FileSystem()\n",
    "    asdf_dir_uri = 's3://roman-sci-test-data-prod-summer-beta-test/AAS_WORKSHOP/'\n",
    "    asdf_file_uri = asdf_dir_uri + 'r0003201001001001004_0001_wfi01_f106_cal.asdf'\n",
    "    with fs.open(asdf_file_uri, 'rb') as f:\n",
    "        af = asdf.open(f)\n",
    "        dm = rdm.open(af)\n",
    "        image = dm.data.copy()\n",
    "        wcs = copy.deepcopy(dm.meta.wcs)"
   ]
  },
  {
   "cell_type": "markdown",
   "metadata": {},
   "source": [
    "### Source Catalog\n",
    "\n",
    "We also have access to a source catalog that was used to simulate the WFI image. It contains stars and galaxies, which are labeled as `PSF` and `SER` under the column `type`. Source fluxes are available in all WFI filters (`F062`, `F087`, `F106`, `F129`, `F146`, `F158`, `F184`, `F213`) and are sampled from a lognormal distribution. Note that fluxes are all given in *maggies*, which are defined as ${\\rm maggie} \\equiv 10^{-0.4 m_{AB}}$, for an AB apparent magnitude $m_{AB}$. \n",
    "\n",
    "For galaxies, morphological parameters like `n` (Sersic index), `half_light_radius`, `pa` (position angle), and `ba` (axis ratio) are also provided in the catalog. These are sampled according to fiducial (and likely unrealistic) distributions."
   ]
  },
  {
   "cell_type": "code",
   "execution_count": null,
   "metadata": {},
   "outputs": [],
   "source": [
    "#Stream the files from the S3 bucket if they are not in local storage\n",
    "\n",
    "if os.path.exists('full_catalog.ecsv'):\n",
    "    cat = Table.read('full_catalog.ecsv')\n",
    "else:\n",
    "    fs = s3fs.S3FileSystem()\n",
    "    asdf_dir_uri = 's3://roman-sci-test-data-prod-summer-beta-test/AAS_WORKSHOP/'\n",
    "    asdf_file_uri = asdf_dir_uri + 'full_catalog.ecsv'\n",
    "    with fs.open(asdf_file_uri, 'rb') as f:\n",
    "        cat = Table.read(f, format='ascii.ecsv')"
   ]
  },
  {
   "cell_type": "markdown",
   "metadata": {},
   "source": [
    "We can also display the first five rows and all columns of the catalog:"
   ]
  },
  {
   "cell_type": "code",
   "execution_count": null,
   "metadata": {},
   "outputs": [],
   "source": [
    "cat[:5]"
   ]
  },
  {
   "cell_type": "markdown",
   "metadata": {},
   "source": [
    "We can convert (RA, Dec) to (x, y) positions on the WFI01 detector."
   ]
  },
  {
   "cell_type": "code",
   "execution_count": null,
   "metadata": {},
   "outputs": [],
   "source": [
    "x_cat, y_cat = wcs.invert(cat[\"ra\"].data, cat[\"dec\"].data)\n",
    "cat['x'] = x_cat\n",
    "cat['y'] = y_cat"
   ]
  },
  {
   "cell_type": "markdown",
   "metadata": {},
   "source": [
    "It might be helpful to quantify the number of sources there are before we try to visualize them! We first create a mask of sources that actually fall on the detector, and then divide the remaining sources into stars and galaxies."
   ]
  },
  {
   "cell_type": "code",
   "execution_count": null,
   "metadata": {},
   "outputs": [],
   "source": [
    "mask = (np.isfinite(x_cat) & np.isfinite(y_cat))\n",
    "print(f\"Number of sources on detector: {sum(mask)}\")\n",
    "\n",
    "stars = cat[mask & (cat[\"type\"] == \"PSF\")]\n",
    "galaxies = cat[mask & (cat[\"type\"] == \"SER\")]\n",
    "print(f\"Number of stars: {len(stars)}\\nNumber of galaxies: {len(galaxies)}\")"
   ]
  },
  {
   "cell_type": "markdown",
   "metadata": {},
   "source": [
    "Note that there are two orders of magnitude more stars than galaxies. We can now plot the distribution of source fluxes using a histogram. "
   ]
  },
  {
   "cell_type": "code",
   "execution_count": null,
   "metadata": {},
   "outputs": [],
   "source": [
    "fig, ax = plt.subplots()\n",
    "ax.hist(np.log10(stars[\"F106\"].value), bins=50, range=[-10, -5], log=True, label=\"Stars\")\n",
    "ax.hist(np.log10(galaxies[\"F106\"].value), bins=50, range=[-10, -5], log=True, label=\"Galaxies\")\n",
    "\n",
    "ax.set_xlabel(r\"$\\log_{10}$(F106 flux [maggies])\")\n",
    "ax.set_ylabel(\"Number of sources\")\n",
    "ax.legend()\n",
    "\n",
    "ax.grid(alpha=0.3)"
   ]
  },
  {
   "cell_type": "markdown",
   "metadata": {},
   "source": [
    "## Forced Aperture Photometry\n",
    "\n",
    "Forced aperture photometry is the process of using predefined source positions to place apertures and measure the flux within them. We use the source catalog information provided above for this. If source positions are unavailable, you will need to perform source detection first to determine their locations (see [Additional Resources](#Additional-Resources))."
   ]
  },
  {
   "cell_type": "markdown",
   "metadata": {},
   "source": [
    "### Create Apertures"
   ]
  },
  {
   "cell_type": "markdown",
   "metadata": {},
   "source": [
    "From the catalogs, we now know the positions of every selected star and galaxy. We can define set aperture radii in units of pixels; we choose radii of 3 pixels for stars and 5 pixels for galaxies."
   ]
  },
  {
   "cell_type": "code",
   "execution_count": null,
   "metadata": {},
   "outputs": [],
   "source": [
    "star_positions = [(x, y) for y, x in zip(stars['y'].data, stars['x'].data)]\n",
    "star_apertures = CircularAperture(positions=star_positions, r=3)\n",
    "\n",
    "galaxy_positions = [(x, y) for y, x in zip(galaxies['y'].data, galaxies['x'].data)]\n",
    "galaxy_apertures = CircularAperture(positions=galaxy_positions, r=5)"
   ]
  },
  {
   "cell_type": "markdown",
   "metadata": {},
   "source": [
    "### Source Visualization"
   ]
  },
  {
   "cell_type": "code",
   "execution_count": null,
   "metadata": {},
   "outputs": [],
   "source": [
    "fig, ax = plt.subplots(figsize=(9, 9))\n",
    "\n",
    "# show the simulated image\n",
    "ax.imshow(image, origin='lower', vmin=0, vmax=12, cmap=\"gray_r\", )\n",
    "\n",
    "# plot circles over bright galaxies and stars\n",
    "star_apertures.plot(color=\"C0\")\n",
    "galaxy_apertures.plot(color=\"C1\")\n",
    "\n",
    "# zoom in on 1/16th of the image\n",
    "ax.set_xlim(1024, 1536)\n",
    "ax.set_ylim(1024, 1536)\n",
    "\n",
    "plt.axis(\"off\")\n",
    "plt.show()"
   ]
  },
  {
   "cell_type": "markdown",
   "metadata": {},
   "source": [
    "### Aperture Photometry with Photutils\n",
    "\n",
    "We can now perform aperture photometry on the selected sources. Note that the input catalog contained all the sources in the region observed with the WFI, but not all the sources in the catalog fall necessarily on a WFI detector. In this case, the aperture photometry will have a value of NaN."
   ]
  },
  {
   "cell_type": "code",
   "execution_count": null,
   "metadata": {},
   "outputs": [],
   "source": [
    "star_phot = aperture_photometry(image, star_apertures)\n",
    "star_phot"
   ]
  },
  {
   "cell_type": "code",
   "execution_count": null,
   "metadata": {},
   "outputs": [],
   "source": [
    "galaxy_phot = aperture_photometry(image, galaxy_apertures)\n",
    "galaxy_phot"
   ]
  },
  {
   "cell_type": "markdown",
   "metadata": {},
   "source": [
    "Let's evaluate our results by plotting the measured fluxes versus fluxes in the simulated catalog. The blue points show the stars and follow a much tighter relation with respect to the extended sources, which is expected given their compact sizes and smaller apertures. On the other hand, galaxies require larger apertures, but in some cases (especially for brighter galaxies), they still lose flux and/or are contaminated by nearby sources, a problem that is often more noticeable for fainter galaxies."
   ]
  },
  {
   "cell_type": "code",
   "execution_count": null,
   "metadata": {},
   "outputs": [],
   "source": [
    "fig, ax = plt.subplots(figsize=(5, 5))\n",
    "ax.scatter(stars[\"F106\"], star_phot[\"aperture_sum\"], s=5, c=\"C0\", label=\"Stars\", alpha=0.5)\n",
    "ax.scatter(galaxies[\"F106\"], galaxy_phot[\"aperture_sum\"], s=5, c=\"C1\", label=\"Galaxies\", alpha=0.5)\n",
    "\n",
    "# Set log scale on both axes\n",
    "ax.set_xscale(\"log\")\n",
    "ax.set_yscale(\"log\")\n",
    "\n",
    "# Label the axes\n",
    "ax.set_xlabel(\"F106 true flux (maggies)\")\n",
    "ax.set_ylabel(\"F106 Aperture flux (DN/s)\")\n",
    "ax.legend(loc=\"lower right\", fontsize=12)\n",
    "\n",
    "# Overplot a reference grid\n",
    "ax.grid(alpha=0.3)"
   ]
  },
  {
   "cell_type": "markdown",
   "metadata": {},
   "source": [
    "In addition to what we expected, we observe a distribution of stars with very low measured fluxes of around 20 DN/s across a wide range of input catalog fluxes. These sources were skipped in the Roman I-Sim simulation. As a result, although they appear in the input catalog, there is no corresponding source at those positions in the simulated image, meaning we are measuring sky background levels instead."
   ]
  },
  {
   "cell_type": "markdown",
   "metadata": {},
   "source": [
    "## Additional Resources\n",
    "The [Photutils documentation](https://photutils.readthedocs.io/en/stable/) has additional tutorials for detecting and fitting sources in images:\n",
    "\n",
    "- [Aperture photometry](https://photutils.readthedocs.io/en/stable/aperture.html)\n",
    "- [Background estimation](https://photutils.readthedocs.io/en/stable/background.html)\n",
    "- [Source detection](https://photutils.readthedocs.io/en/stable/detection.html)\n",
    "- [PSF photometry](https://photutils.readthedocs.io/en/stable/psf.html)"
   ]
  },
  {
   "cell_type": "markdown",
   "metadata": {
    "slideshow": {
     "slide_type": "slide"
    }
   },
   "source": [
    "## About This Notebook\n",
    "\n",
    "**Author:** John F. Wu, Tyler Desjardins\\\n",
    "**Updated On:** 2025-01-10"
   ]
  },
  {
   "cell_type": "markdown",
   "metadata": {},
   "source": [
    "***"
   ]
  },
  {
   "cell_type": "markdown",
   "metadata": {},
   "source": [
    "[Top of Page](#top)\n",
    "<img style=\"float: right;\" src=\"https://raw.githubusercontent.com/spacetelescope/notebooks/master/assets/stsci_pri_combo_mark_horizonal_white_bkgd.png\" alt=\"Space Telescope Logo\" width=\"200px\"/> "
   ]
  }
 ],
 "metadata": {
  "kernelspec": {
   "display_name": "Python 3 (ipykernel)",
   "language": "python",
   "name": "python3"
  },
  "language_info": {
   "codemirror_mode": {
    "name": "ipython",
    "version": 3
   },
   "file_extension": ".py",
   "mimetype": "text/x-python",
   "name": "python",
   "nbconvert_exporter": "python",
   "pygments_lexer": "ipython3",
   "version": "3.12.10"
  }
 },
 "nbformat": 4,
 "nbformat_minor": 4
}
